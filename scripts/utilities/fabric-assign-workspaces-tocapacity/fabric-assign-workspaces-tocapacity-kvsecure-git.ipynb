{
 "cells": [
  {
   "cell_type": "markdown",
   "metadata": {},
   "source": [
    "# PowerBI Workspace Migration to Fabric Capacity\n",
    "\n",
    "This notebook provides a step-by-step guide to migrating Power BI workspaces to F Capacity based on Capacity and Workspace IDs.\n",
    "\n",
    "## Prerequisites\n",
    "\n",
    "Ensure you have the following prerequisites before running the notebook:\n",
    "\n",
    "1. **Python Packages**: \n",
    "   - Install the required Python packages:\n",
    "     ```bash\n",
    "     pip install msal\n",
    "     pip install azure-identity azure-keyvault-secrets\n",
    "     ```\n",
    "\n",
    "2. **Azure Credentials**:\n",
    "   - Set the following environment variables with your Azure credentials:\n",
    "     - `AZURE_CLIENT_ID`\n",
    "     - `AZURE_TENANT_ID`\n",
    "     - `AZURE_CLIENT_SECRET`\n",
    "\n",
    "3. **Azure Key Vault**:\n",
    "   - Your Azure Key Vault should store the client secret needed for authentication.\n",
    "   - Set the Key Vault name and secret name in the notebook."
   ]
  },
  {
   "cell_type": "markdown",
   "metadata": {},
   "source": [
    "## Option 1: Migrates Workspaces Based on Capacity and Workspace IDs\n",
    "\n",
    "### Step 1: Set Environment Variables\n",
    "Set the environment variables for `AZURE_CLIENT_ID`, `AZURE_TENANT_ID`, and `AZURE_CLIENT_SECRET`."
   ]
  },
  {
   "cell_type": "code",
   "execution_count": 2,
   "metadata": {},
   "outputs": [],
   "source": [
    "import os\n",
    "# Set the following environment variables with the values of your Azure AD application for testing purposes\n",
    "os.environ['AZURE_CLIENT_ID'] = '<CLIENT ID>' # Application (client) ID of your Azure AD application\n",
    "os.environ['AZURE_TENANT_ID'] = '<TENANT ID>' # Directory (tenant) ID of your Azure AD tenant\n",
    "os.environ['AZURE_CLIENT_SECRET'] = '<CLIENT SECRET>' # Client secret of your Azure AD application\n",
    "\n",
    "\n"
   ]
  },
  {
   "cell_type": "markdown",
   "metadata": {},
   "source": [
    "### Step 2: Retrieve Client Secret from Azure Key Vault\n",
    "Fetch the client secret from Azure Key Vault using the `azure-identity` and `azure-keyvault-secrets` packages."
   ]
  },
  {
   "cell_type": "code",
   "execution_count": 3,
   "metadata": {},
   "outputs": [],
   "source": [
    "from azure.identity import EnvironmentCredential\n",
    "from azure.keyvault.secrets import SecretClient\n",
    "\n",
    "key_vault_name = \"<KEY_VAULT_NAME>\" # Replace with your Key Vault name\n",
    "secret_name = \"<KEY_VAULT_SECRET>\" # Replace with your secret name\n",
    "\n",
    "vault_url = f\"https://{key_vault_name}.vault.azure.net\"\n",
    "credential = EnvironmentCredential()\n",
    "secret_client = SecretClient(vault_url=vault_url, credential=credential)\n",
    "\n",
    "retrieved_secret = secret_client.get_secret(secret_name)\n",
    "client_secret = retrieved_secret.value"
   ]
  },
  {
   "cell_type": "markdown",
   "metadata": {},
   "source": [
    "### Step 3: Acquire Token for Microsoft Fabric API\n",
    "Use the `msal` package to acquire an access token for the Microsoft Fabric API."
   ]
  },
  {
   "cell_type": "code",
   "execution_count": 4,
   "metadata": {},
   "outputs": [],
   "source": [
    "from msal import ConfidentialClientApplication\n",
    "\n",
    "tenant_id = os.getenv('AZURE_TENANT_ID')\n",
    "client_id = os.getenv('AZURE_CLIENT_ID')\n",
    "authority = f\"https://login.microsoftonline.com/{tenant_id}\"\n",
    "scopes = [\"https://api.fabric.microsoft.com/.default\"]\n",
    "\n",
    "app = ConfidentialClientApplication(client_id, authority=authority, client_credential=client_secret)\n",
    "result = app.acquire_token_for_client(scopes)\n",
    "\n",
    "if 'access_token' in result:\n",
    "    access_token = result['access_token']\n",
    "else:\n",
    "    raise Exception(\"Token acquisition failed:\", result.get(\"error\"), result.get(\"error_description\"))"
   ]
  },
  {
   "cell_type": "markdown",
   "metadata": {},
   "source": [
    "### Step 4: Retrieve Capacities and Workspaces\n",
    "Get the list of capacities and workspaces from the Microsoft Fabric API."
   ]
  },
  {
   "cell_type": "code",
   "execution_count": 5,
   "metadata": {},
   "outputs": [],
   "source": [
    "import requests\n",
    "\n",
    "headers = {'Authorization': 'Bearer ' + access_token}\n",
    "\n",
    "capacities_url = \"https://api.fabric.microsoft.com/v1/capacities\"\n",
    "capacities_response = requests.get(capacities_url, headers=headers)\n",
    "capacities = capacities_response.json()[\"value\"] if capacities_response.status_code == 200 else []\n",
    "\n",
    "workspaces_url = \"https://api.fabric.microsoft.com/v1/workspaces\"\n",
    "workspaces_response = requests.get(workspaces_url, headers=headers)\n",
    "workspaces = workspaces_response.json()[\"value\"] if workspaces_response.status_code == 200 else []"
   ]
  },
  {
   "cell_type": "markdown",
   "metadata": {},
   "source": [
    "#### Display Capacities\n",
    "Print the details of each capacity."
   ]
  },
  {
   "cell_type": "code",
   "execution_count": 6,
   "metadata": {},
   "outputs": [
    {
     "name": "stdout",
     "output_type": "stream",
     "text": [
      "Capacities:\n",
      "ID: e1be100d-d431-47cf-8de9-sadsadsadaaa\n",
      "Name: fabriccapacitydkndev\n",
      "SKU: F2\n",
      "Region: West US 3\n",
      "State: Active\n",
      "--------\n",
      "ID: f48a3ab6-c5ee-40af-be8d-dsadasfdsafsa\n",
      "Name: Premium Per User - Reserved\n",
      "SKU: PP3\n",
      "Region: West US 3\n",
      "State: Active\n",
      "--------\n"
     ]
    }
   ],
   "source": [
    "if capacities:\n",
    "    print(\"Capacities:\")\n",
    "    for capacity in capacities:\n",
    "        print(f\"ID: {capacity['id']}\")\n",
    "        print(f\"Name: {capacity['displayName']}\")\n",
    "        print(f\"SKU: {capacity['sku']}\")\n",
    "        print(f\"Region: {capacity['region']}\")\n",
    "        print(f\"State: {capacity['state']}\")\n",
    "        print(\"--------\")\n",
    "else:\n",
    "    print(\"Failed to get capacities:\", capacities_response.status_code, capacities_response.text)"
   ]
  },
  {
   "cell_type": "markdown",
   "metadata": {},
   "source": [
    "#### Display Workspaces\n",
    "Print the details of each workspace."
   ]
  },
  {
   "cell_type": "code",
   "execution_count": 7,
   "metadata": {},
   "outputs": [
    {
     "name": "stdout",
     "output_type": "stream",
     "text": [
      "Workspaces:\n",
      "ID: 5dfba9f1-3c4a-48e8-87ed-1111133333333\n",
      "Name: wksp-dkn-dev\n",
      "Description: the dev workspace\n",
      "Type: Workspace\n",
      "Capacity ID: e1be100d-d431-47cf-8de9-sadsadsadaaa\n",
      "--------\n",
      "ID: 10271529-d210-4423-b1d1-22222222222\n",
      "Name: wksp-dkn-vnet-dev\n",
      "Description: \n",
      "Type: Workspace\n",
      "Capacity ID: 2e931b9d-dbbf-41b9-a495-3aaaaaaaa222\n",
      "--------\n",
      "ID: 6ef1566f-4c95-4d1e-b2ed-44444444444\n",
      "Name: wksp-dkn-test-1\n",
      "Description: \n",
      "Type: Workspace\n",
      "Capacity ID: 2e931b9d-dbbf-41b9-a495-3aaaaaaaa222\n",
      "--------\n"
     ]
    }
   ],
   "source": [
    "if workspaces:\n",
    "    print(\"Workspaces:\")\n",
    "    workspace_list = []\n",
    "    for workspace in workspaces:\n",
    "        workspace_list.append({\n",
    "            'id': workspace['id'],\n",
    "            'name': workspace['displayName'],\n",
    "            'description': workspace['description'],\n",
    "            'type': workspace['type'],\n",
    "            'capacityId': workspace.get('capacityId', 'N/A')\n",
    "        })\n",
    "        print(f\"ID: {workspace['id']}\")\n",
    "        print(f\"Name: {workspace['displayName']}\")\n",
    "        print(f\"Description: {workspace['description']}\")\n",
    "        print(f\"Type: {workspace['type']}\")\n",
    "        print(f\"Capacity ID: {workspace.get('capacityId', 'N/A')}\")\n",
    "        print(\"--------\")\n",
    "else:\n",
    "    print(\"Failed to get workspaces:\", workspaces_response.status_code, workspaces_response.text)"
   ]
  },
  {
   "cell_type": "markdown",
   "metadata": {},
   "source": [
    "### Step 5: Select and Assign Workspaces to Capacities\n",
    "Select the capacity and workspaces for assignment and assign them accordingly."
   ]
  },
  {
   "cell_type": "code",
   "execution_count": 9,
   "metadata": {},
   "outputs": [
    {
     "name": "stdout",
     "output_type": "stream",
     "text": [
      "Select workspaces to assign (comma-separated IDs):\n",
      "ID: 5dfba9f1-3c4a-48e8-87ed-1111133333333, Name: wksp-dkn-dev, Description: the dev workspace, Capacity ID: e1be100d-d431-47cf-8de9-sadsadsadaaa\n",
      "ID: 10271529-d210-4423-b1d1-22222222222, Name: wksp-dkn-vnet-dev, Description: , Capacity ID: 2e931b9d-dbbf-41b9-a495-3aaaaaaaa222\n",
      "ID: 6ef1566f-4c95-4d1e-b2ed-44444444444, Name: wksp-dkn-test-1, Description: , Capacity ID: 2e931b9d-dbbf-41b9-a495-3aaaaaaaa222\n",
      "Workspace 6ef1566f-4c95-4d1e-b2ed-44444444444 assigned successfully to capacity e1be100d-d431-47cf-8de9-sadsadsadaaa.\n"
     ]
    }
   ],
   "source": [
    "if capacities:\n",
    "    selected_capacity_id = input(\"Enter Capacity ID to assign workspaces to: \")\n",
    "\n",
    "    print(\"Select workspaces to assign (comma-separated IDs):\")\n",
    "    for workspace in workspace_list:\n",
    "        print(f\"ID: {workspace['id']}, Name: {workspace['name']}, Description: {workspace['description']}, Capacity ID: {workspace['capacityId']}\")\n",
    "    selected_workspace_ids = input(\"Enter Workspace IDs: \").split(\",\")\n",
    "\n",
    "    # Assign workspaces to the selected capacity\n",
    "    for workspace_id in selected_workspace_ids:\n",
    "        assign_url = f\"https://api.fabric.microsoft.com/v1/workspaces/{workspace_id}/assignToCapacity\"\n",
    "        data = {\"capacityId\": selected_capacity_id}\n",
    "        assign_response = requests.post(assign_url, headers=headers, json=data)\n",
    "\n",
    "        if assign_response.status_code in [200, 202]:\n",
    "            print(f\"Workspace {workspace_id} assigned successfully to capacity {selected_capacity_id}.\")\n",
    "        else:\n",
    "            print(f\"Failed to assign workspace {workspace_id}: {assign_response.status_code} {assign_response.text}\")\n",
    "else:\n",
    "    print(\"No capacities available to select.\")"
   ]
  },
  {
   "cell_type": "markdown",
   "metadata": {},
   "source": [
    "## Option 2: Migrates Workspaces Based on Capacity ID Mapping\n",
    "\n",
    "### Step 1: Set Environment Variables\n",
    "Set the environment variables for `AZURE_CLIENT_ID`, `AZURE_TENANT_ID`, and `AZURE_CLIENT_SECRET`."
   ]
  },
  {
   "cell_type": "code",
   "execution_count": 10,
   "metadata": {},
   "outputs": [],
   "source": [
    "import os\n",
    "\n",
    "# Set the following environment variables with the values of your Azure AD application for testing purposes\n",
    "os.environ['AZURE_CLIENT_ID'] = '<CLIENT ID>' # Application (client) ID of your Azure AD application\n",
    "os.environ['AZURE_TENANT_ID'] = '<TENANT ID>' # Directory (tenant) ID of your Azure AD tenant\n",
    "os.environ['AZURE_CLIENT_SECRET'] = '<CLIENT SECRET>' # Client secret of your Azure AD application\n"
   ]
  },
  {
   "cell_type": "markdown",
   "metadata": {},
   "source": [
    "### Step 2: Retrieve Client Secret from Azure Key Vault\n",
    "Fetch the client secret from Azure Key Vault using the `azure-identity` and `azure-keyvault-secrets` packages."
   ]
  },
  {
   "cell_type": "code",
   "execution_count": 11,
   "metadata": {},
   "outputs": [],
   "source": [
    "from azure.identity import DefaultAzureCredential\n",
    "from azure.keyvault.secrets import SecretClient\n",
    "\n",
    "key_vault_name = \"<KEY_VAULT_NAME>\" # Replace with your Key Vault name\n",
    "secret_name = \"<KEY_VAULT_SECRET>\" # Replace with your secret name\n",
    "\n",
    "vault_url = f\"https://{key_vault_name}.vault.azure.net\"\n",
    "credential = DefaultAzureCredential()\n",
    "secret_client = SecretClient(vault_url=vault_url, credential=credential)\n",
    "\n",
    "retrieved_secret = secret_client.get_secret(secret_name)\n",
    "client_secret = retrieved_secret.value"
   ]
  },
  {
   "cell_type": "markdown",
   "metadata": {},
   "source": [
    "### Step 3: Acquire Token for Microsoft Fabric API\n",
    "Use the `msal` package to acquire an access token for the Microsoft Fabric API."
   ]
  },
  {
   "cell_type": "code",
   "execution_count": 12,
   "metadata": {},
   "outputs": [],
   "source": [
    "from msal import ConfidentialClientApplication\n",
    "\n",
    "tenant_id = os.getenv('AZURE_TENANT_ID')\n",
    "client_id = os.getenv('AZURE_CLIENT_ID')\n",
    "authority = f\"https://login.microsoftonline.com/{tenant_id}\"\n",
    "scopes = [\"https://api.fabric.microsoft.com/.default\"]\n",
    "\n",
    "app = ConfidentialClientApplication(client_id, authority=authority, client_credential=client_secret)\n",
    "result = app.acquire_token_for_client(scopes)\n",
    "\n",
    "if 'access_token' in result:\n",
    "    access_token = result['access_token']\n",
    "else:\n",
    "    raise Exception(\"Token acquisition failed:\", result.get(\"error\"), result.get(\"error_description\"))"
   ]
  },
  {
   "cell_type": "markdown",
   "metadata": {},
   "source": [
    "### Step 4: Retrieve Capacities and Workspaces\n",
    "Get the list of capacities and workspaces from the Microsoft Fabric API."
   ]
  },
  {
   "cell_type": "code",
   "execution_count": 13,
   "metadata": {},
   "outputs": [],
   "source": [
    "import requests\n",
    "\n",
    "headers = {'Authorization': 'Bearer ' + access_token}\n",
    "\n",
    "capacities_url = \"https://api.fabric.microsoft.com/v1/capacities\"\n",
    "capacities_response = requests.get(capacities_url, headers=headers)\n",
    "capacities = capacities_response.json()[\"value\"] if capacities_response.status_code == 200 else []\n",
    "\n",
    "workspaces_url = \"https://api.fabric.microsoft.com/v1/workspaces\"\n",
    "workspaces_response = requests.get(workspaces_url, headers=headers)\n",
    "workspaces = workspaces_response.json()[\"value\"] if workspaces_response.status_code == 200 else []"
   ]
  },
  {
   "cell_type": "markdown",
   "metadata": {},
   "source": [
    "#### Display Capacities\n",
    "Print the details of each capacity."
   ]
  },
  {
   "cell_type": "code",
   "execution_count": 14,
   "metadata": {},
   "outputs": [
    {
     "name": "stdout",
     "output_type": "stream",
     "text": [
      "Capacities:\n",
      "ID: e1be100d-d431-47cf-8de9-sadsadsadaaa\n",
      "Name: fabriccapacitydkndev\n",
      "SKU: F2\n",
      "Region: West US 3\n",
      "State: Active\n",
      "--------\n",
      "ID: f48a3ab6-c5ee-40af-be8d-dsadasfdsafsa\n",
      "Name: Premium Per User - Reserved\n",
      "SKU: PP3\n",
      "Region: West US 3\n",
      "State: Active\n",
      "--------\n"
     ]
    }
   ],
   "source": [
    "if capacities:\n",
    "    print(\"Capacities:\")\n",
    "    for capacity in capacities:\n",
    "        print(f\"ID: {capacity['id']}\")\n",
    "        print(f\"Name: {capacity['displayName']}\")\n",
    "        print(f\"SKU: {capacity['sku']}\")\n",
    "        print(f\"Region: {capacity['region']}\")\n",
    "        print(f\"State: {capacity['state']}\")\n",
    "        print(\"--------\")\n",
    "else:\n",
    "    print(\"Failed to get capacities:\", capacities_response.status_code, capacities_response.text)"
   ]
  },
  {
   "cell_type": "markdown",
   "metadata": {},
   "source": [
    "#### Display Workspaces\n",
    "Print the details of each workspace."
   ]
  },
  {
   "cell_type": "code",
   "execution_count": 15,
   "metadata": {},
   "outputs": [
    {
     "name": "stdout",
     "output_type": "stream",
     "text": [
      "Workspaces:\n",
      "ID: 5dfba9f1-3c4a-48e8-87ed-1111133333333\n",
      "Name: wksp-dkn-dev\n",
      "Description: the dev workspace\n",
      "Type: Workspace\n",
      "Capacity ID: e1be100d-d431-47cf-8de9-sadsadsadaaa\n",
      "--------\n",
      "ID: 10271529-d210-4423-b1d1-22222222222\n",
      "Name: wksp-dkn-vnet-dev\n",
      "Description: \n",
      "Type: Workspace\n",
      "Capacity ID: 2e931b9d-dbbf-41b9-a495-3aaaaaaaa222\n",
      "--------\n",
      "ID: 6ef1566f-4c95-4d1e-b2ed-44444444444\n",
      "Name: wksp-dkn-test-1\n",
      "Description: \n",
      "Type: Workspace\n",
      "Capacity ID: e1be100d-d431-47cf-8de9-sadsadsadaaa\n",
      "--------\n"
     ]
    }
   ],
   "source": [
    "if workspaces:\n",
    "    print(\"Workspaces:\")\n",
    "    for workspace in workspaces:\n",
    "        print(f\"ID: {workspace['id']}\")\n",
    "        print(f\"Name: {workspace['displayName']}\")\n",
    "        print(f\"Description: {workspace['description']}\")\n",
    "        print(f\"Type: {workspace['type']}\")\n",
    "        print(f\"Capacity ID: {workspace.get('capacityId', 'N/A')}\")\n",
    "        print(\"--------\")\n",
    "else:\n",
    "    print(\"Failed to get workspaces:\", workspaces_response.status_code, workspaces_response.text)"
   ]
  },
  {
   "cell_type": "markdown",
   "metadata": {},
   "source": [
    "### Step 5: Map Workspaces to New Capacities\n",
    "Define the mapping from legacy capacities to new Fabric capacities using capacity IDs and display the mappings."
   ]
  },
  {
   "cell_type": "code",
   "execution_count": 16,
   "metadata": {},
   "outputs": [
    {
     "name": "stdout",
     "output_type": "stream",
     "text": [
      "Workspaces and their mapped capacities:\n",
      "Workspace: wksp-dkn-vnet-dev (ID: 10271529-d210-4423-b1d1-22222222222)\n",
      "  Legacy Capacity ID: 2e931b9d-dbbf-41b9-a495-3aaaaaaaa222\n",
      "  New Capacity ID: e1be100d-d431-47cf-8de9-sadsadsadaaa\n",
      "  --------\n"
     ]
    }
   ],
   "source": [
    "capacity_mapping = {\n",
    "  #  \"2e931b9d-dbbf-41b9-5555-3333333333\": \"e1be100d-d431-47cf-8889-4444444444\",\n",
    "    #\"e1be100d-d431-47cf-8de9-sadsadsadaaa\": \"2e931b9d-dbbf-41b9-a495-3aaaaaaaa222\" #f2 sku -> trial sku,\n",
    "    \"2e931b9d-dbbf-41b9-a495-3aaaaaaaa222\": \"e1be100d-d431-47cf-8de9-sadsadsadaaa\" #trial sku -> f2 sku\n",
    "    # Add more mappings as needed\n",
    "}\n",
    "\n",
    "mappings = []\n",
    "for workspace in workspaces:\n",
    "    workspace_name = workspace.get(\"displayName\")\n",
    "    legacy_capacity_id = workspace.get(\"capacityId\")\n",
    "    new_capacity_id = capacity_mapping.get(legacy_capacity_id)\n",
    "\n",
    "    if new_capacity_id:\n",
    "        mappings.append((workspace_name, workspace['id'], legacy_capacity_id, new_capacity_id))\n",
    "\n",
    "# Display the mappings\n",
    "if mappings:\n",
    "    print(\"Workspaces and their mapped capacities:\")\n",
    "    for mapping in mappings:\n",
    "        print(f\"Workspace: {mapping[0]} (ID: {mapping[1]})\")\n",
    "        print(f\"  Legacy Capacity ID: {mapping[2]}\")\n",
    "        print(f\"  New Capacity ID: {mapping[3]}\")\n",
    "        print(\"  --------\")\n",
    "else:\n",
    "    print(\"No valid mappings found.\")"
   ]
  },
  {
   "cell_type": "markdown",
   "metadata": {},
   "source": [
    "### Step 6: Migrate Workspaces\n",
    "Confirm the mappings and proceed with the migration of workspaces to the new capacities."
   ]
  },
  {
   "cell_type": "code",
   "execution_count": 18,
   "metadata": {},
   "outputs": [
    {
     "name": "stdout",
     "output_type": "stream",
     "text": [
      "Workspace wksp-dkn-vnet-dev (ID: 10271529-d210-4423-b1d1-22222222222) assigned successfully to new capacity (ID: e1be100d-d431-47cf-8de9-sadsadsadaaa).\n"
     ]
    }
   ],
   "source": [
    "confirm = input(\"Do you want to proceed with the migration? (yes/no): \").strip().lower()\n",
    "if confirm != 'yes':\n",
    "    print(\"Migration aborted by user.\")\n",
    "    exit()\n",
    "\n",
    "for mapping in mappings:\n",
    "    workspace_name, workspace_id, legacy_capacity_id, new_capacity_id = mapping\n",
    "    assign_url = f\"https://api.fabric.microsoft.com/v1/workspaces/{workspace_id}/assignToCapacity\"\n",
    "    data = {\"capacityId\": new_capacity_id}\n",
    "    assign_response = requests.post(assign_url, headers=headers, json=data)\n",
    "\n",
    "    if assign_response.status_code in [200, 202]:\n",
    "        print(f\"Workspace {workspace_name} (ID: {workspace_id}) assigned successfully to new capacity (ID: {new_capacity_id}).\")\n",
    "    else:\n",
    "        print(f\"Failed to assign workspace {workspace_name} (ID: {workspace_id}): {assign_response.status_code} {assign_response.text}\")\n",
    "\n",
    "    # Optional: Delay between migrations to manage load\n",
    "    #time.sleep(1)"
   ]
  },
  {
   "cell_type": "markdown",
   "metadata": {},
   "source": [
    "## Notes\n",
    "- Ensure that the capacity mappings are correctly defined.\n",
    "- The script includes debugging prints to help verify each step.\n",
    "- The `time.sleep(1)` function call can be adjusted or removed based on the load and performance requirements."
   ]
  },
  {
   "cell_type": "markdown",
   "metadata": {},
   "source": [
    "## License\n",
    "This project is licensed under the MIT License."
   ]
  }
 ],
 "metadata": {
  "kernelspec": {
   "display_name": "Python 3",
   "language": "python",
   "name": "python3"
  },
  "language_info": {
   "codemirror_mode": {
    "name": "ipython",
    "version": 3
   },
   "file_extension": ".py",
   "mimetype": "text/x-python",
   "name": "python",
   "nbconvert_exporter": "python",
   "pygments_lexer": "ipython3",
   "version": "3.12.1"
  },
  "polyglot_notebook": {
   "kernelInfo": {
    "defaultKernelName": "csharp",
    "items": [
     {
      "aliases": [],
      "name": "csharp"
     }
    ]
   }
  }
 },
 "nbformat": 4,
 "nbformat_minor": 2
}
